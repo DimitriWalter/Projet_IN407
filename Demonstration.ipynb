{
 "cells": [
  {
   "cell_type": "markdown",
   "metadata": {},
   "source": [
    "Importation des modules utilisés"
   ]
  },
  {
   "cell_type": "code",
   "execution_count": 1,
   "metadata": {},
   "outputs": [],
   "source": [
    "from buffer import *\n",
    "from paquet import *\n",
    "from source import *"
   ]
  },
  {
   "cell_type": "markdown",
   "metadata": {},
   "source": [
    "Création des buffers"
   ]
  },
  {
   "cell_type": "code",
   "execution_count": 61,
   "metadata": {},
   "outputs": [],
   "source": [
    "buffer_source = Buffer(100)\n",
    "buffer_transit = Buffer(100)\n",
    "buffer_dest = Buffer(100)"
   ]
  },
  {
   "cell_type": "markdown",
   "metadata": {},
   "source": [
    "Création et insertion des paquets"
   ]
  },
  {
   "cell_type": "code",
   "execution_count": 3,
   "metadata": {},
   "outputs": [],
   "source": [
    "def ajout_paquet(buffer, nb=1):\n",
    "    for _ in range(nb):\n",
    "        paquet = Paquet().get_paquet()\n",
    "        buffer.arrivee_paquet(paquet)\n",
    "\n",
    "def remplir_buffer(buffer):\n",
    "    ajout_paquet(buffer, len(buffer.buffer))"
   ]
  },
  {
   "cell_type": "code",
   "execution_count": 26,
   "metadata": {},
   "outputs": [
    {
     "name": "stdout",
     "output_type": "stream",
     "text": [
      "[{'id': 'e8e3c677-6506-4429-9b3f-0d99907aea3e', 'adresse_source': '212.73.238.137', 'destination': '188.93.114.219', 'taille': 57082}, {'id': 'b732c332-0d8f-400a-9890-a4b78742989f', 'adresse_source': '195.68.254.250', 'destination': '185.66.234.61', 'taille': 90350}, {'id': 'd2e7f5da-acca-4bc0-be17-db500ea63f53', 'adresse_source': '45.82.181.49', 'destination': '152.195.203.14', 'taille': 41528}, {'id': 'd679fd60-052e-49b4-854b-636cafeaea96', 'adresse_source': '2.18.106.76', 'destination': '149.6.72.32', 'taille': 93732}, {'id': '761e3737-8ca9-4c26-9815-0369e62a103b', 'adresse_source': '91.199.242.145', 'destination': '92.61.75.1', 'taille': 12096}, [], [], [], [], [], [], [], [], [], [], [], [], [], [], [], [], [], [], [], [], [], [], [], [], [], [], [], [], [], [], [], [], [], [], [], [], [], [], [], [], [], [], [], [], [], [], [], [], [], [], [], [], [], [], [], [], [], [], [], [], [], [], [], [], [], [], [], [], [], [], [], [], [], [], [], [], [], [], [], [], [], [], [], [], [], [], [], [], [], [], [], [], [], [], []]\n",
      "95\n"
     ]
    }
   ],
   "source": [
    "ajout_paquet(buffer_source, 5)\n",
    "buffer_source.afficher_buffer()\n",
    "buffer_source.afficher_capacite()"
   ]
  },
  {
   "cell_type": "markdown",
   "metadata": {},
   "source": [
    "Démonstration de la transmission d'un paquet depuis un buffer vers un autre"
   ]
  },
  {
   "cell_type": "code",
   "execution_count": 65,
   "metadata": {},
   "outputs": [],
   "source": [
    "ajout_paquet(buffer_source, 1)"
   ]
  },
  {
   "cell_type": "code",
   "execution_count": 69,
   "metadata": {},
   "outputs": [],
   "source": [
    "buffer_source.transmission_paquet(buffer_source.buffer[0], buffer_transit)"
   ]
  },
  {
   "cell_type": "markdown",
   "metadata": {},
   "source": [
    "Visualisation du buffer expéditeur"
   ]
  },
  {
   "cell_type": "code",
   "execution_count": 70,
   "metadata": {},
   "outputs": [
    {
     "name": "stdout",
     "output_type": "stream",
     "text": [
      "[[], [], [], [], [], [], [], [], [], [], [], [], [], [], [], [], [], [], [], [], [], [], [], [], [], [], [], [], [], [], [], [], [], [], [], [], [], [], [], [], [], [], [], [], [], [], [], [], [], [], [], [], [], [], [], [], [], [], [], [], [], [], [], [], [], [], [], [], [], [], [], [], [], [], [], [], [], [], [], [], [], [], [], [], [], [], [], [], [], [], [], [], [], [], [], [], [], [], [], []]\n",
      "Capacité: 100\n"
     ]
    }
   ],
   "source": [
    "buffer_source.afficher_buffer()\n",
    "print(\"Capacité:\", buffer_source.capacite)"
   ]
  },
  {
   "cell_type": "markdown",
   "metadata": {},
   "source": [
    "Visualisation du buffer destinataire"
   ]
  },
  {
   "cell_type": "code",
   "execution_count": 73,
   "metadata": {},
   "outputs": [
    {
     "name": "stdout",
     "output_type": "stream",
     "text": [
      "[[], [], [], [], [], [], [], [], [], [], [], [], [], [], [], [], [], [], [], [], [], [], [], [], [], [], [], [], [], [], [], [], [], [], [], [], [], [], [], [], [], [], [], [], [], [], [], [], [], [], [], [], [], [], [], [], [], [], [], [], [], [], [], [], [], [], [], [], [], [], [], [], [], [], [], [], [], [], [], [], [], [], [], [], [], [], [], [], [], [], [], [], [], [], [], [], [], [], [], []]\n",
      "Capacité: 100\n"
     ]
    }
   ],
   "source": [
    "buffer_transit.afficher_buffer()\n",
    "print(\"Capacité:\", buffer_transit.capacite)"
   ]
  },
  {
   "cell_type": "markdown",
   "metadata": {},
   "source": [
    "Retrait d'un paquet"
   ]
  },
  {
   "cell_type": "code",
   "execution_count": 72,
   "metadata": {},
   "outputs": [],
   "source": [
    "buffer_transit.retrait_paquet(buffer_transit.buffer[0])"
   ]
  }
 ],
 "metadata": {
  "kernelspec": {
   "display_name": "Python 3",
   "language": "python",
   "name": "python3"
  },
  "language_info": {
   "codemirror_mode": {
    "name": "ipython",
    "version": 3
   },
   "file_extension": ".py",
   "mimetype": "text/x-python",
   "name": "python",
   "nbconvert_exporter": "python",
   "pygments_lexer": "ipython3",
   "version": "3.10.7"
  }
 },
 "nbformat": 4,
 "nbformat_minor": 2
}
